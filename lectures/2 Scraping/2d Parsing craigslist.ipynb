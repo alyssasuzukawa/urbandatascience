{
 "cells": [
  {
   "cell_type": "markdown",
   "id": "sunrise-lease",
   "metadata": {},
   "source": [
    "# Parsing craigslist"
   ]
  },
  {
   "cell_type": "markdown",
   "id": "5a1dfbf1",
   "metadata": {},
   "source": [
    "## Lecture objectives\n",
    "\n",
    "1. Provide more practice with scraping web pages and parsing text\n",
    "2. Show how to handle errors (\"exceptions\") gracefully\n",
    "3. Provide more pratice with `pandas` and plotting"
   ]
  },
  {
   "cell_type": "markdown",
   "id": "major-watts",
   "metadata": {},
   "source": [
    "Let's continue with the craigslist example from the previous lecture.\n",
    "\n",
    "We've already figured out how to extract the information from a single post. Now, let's try and get all 120 posts from the first page of listings, and put them in a `pandas` dataframe. \n",
    "\n",
    "`pandas` can create a dataframe from many different data structures. But one of the easiest ways to is to create a list of dictionaries, and then tell `pandas` to convert that into a dataframe. \n",
    "\n",
    "Each element of the list will be a craigslist post. Within that list element, we have a dictionary of columns.\n",
    "\n",
    "First of all, let's recreate the list of posts as before."
   ]
  },
  {
   "cell_type": "markdown",
   "id": "34a69779",
   "metadata": {},
   "source": [
    "Remember that `posts` held our list of posts"
   ]
  },
  {
   "cell_type": "code",
   "execution_count": 1,
   "id": "e23b0b19",
   "metadata": {},
   "outputs": [
    {
     "name": "stdout",
     "output_type": "stream",
     "text": [
      "120\n"
     ]
    }
   ],
   "source": [
    "from bs4 import BeautifulSoup\n",
    "\n",
    "with open('../data/cl_posts.html', 'r') as f:  \n",
    "    saved_content = f.read()\n",
    "        \n",
    "soup = BeautifulSoup(saved_content, features='html.parser')\n",
    "posts = soup.find_all('li', class_='cl-search-result')\n",
    "print(len(posts))"
   ]
  },
  {
   "cell_type": "markdown",
   "id": "e199e9fd-8629-4842-8531-9e35c7e47b41",
   "metadata": {},
   "source": [
    "This is the code we had before."
   ]
  },
  {
   "cell_type": "code",
   "execution_count": 2,
   "id": "bb6713cc",
   "metadata": {},
   "outputs": [
    {
     "name": "stdout",
     "output_type": "stream",
     "text": [
      "SR- Brand new 2 bed, 2 bath  luxury unit with ROOTOP\n",
      "https://losangeles.craigslist.org/wst/apa/d/los-angeles-sr-brand-new-bed-bath/7584176475.html\n",
      "HollywoodÂ\n",
      "$3,295\n",
      "2br\n",
      "925ft2\n"
     ]
    }
   ],
   "source": [
    "print(posts[2].find(class_='titlestring').text)\n",
    "print(posts[2].find(class_='titlestring')['href'])\n",
    "print(posts[2].find(class_='meta').text.split('·')[1])\n",
    "print(posts[2].find(class_= 'priceinfo').text)\n",
    "print(posts[2].find(class_= 'post-bedrooms').text)\n",
    "print(posts[2].find(class_= 'post-sqft').text)"
   ]
  },
  {
   "cell_type": "markdown",
   "id": "55720210",
   "metadata": {},
   "source": [
    "So now, let's do the same to all posts. We will:\n",
    "* Loop over the list, `posts`\n",
    "* Use the code above to extract each element we want, and store it in a dictionary\n",
    "* Create a list of these dictionaries, that we can then turn into a dataframe\n",
    "\n",
    "Note that rather than printing each result, we'll assign it to a temporary variable."
   ]
  },
  {
   "cell_type": "code",
   "execution_count": 3,
   "id": "dirty-expansion",
   "metadata": {},
   "outputs": [
    {
     "ename": "AttributeError",
     "evalue": "'NoneType' object has no attribute 'text'",
     "output_type": "error",
     "traceback": [
      "\u001b[1;31m---------------------------------------------------------------------------\u001b[0m",
      "\u001b[1;31mAttributeError\u001b[0m                            Traceback (most recent call last)",
      "Cell \u001b[1;32mIn[3], line 10\u001b[0m\n\u001b[0;32m      8\u001b[0m neighborhood \u001b[38;5;241m=\u001b[39m post\u001b[38;5;241m.\u001b[39mfind(class_\u001b[38;5;241m=\u001b[39m\u001b[38;5;124m'\u001b[39m\u001b[38;5;124mmeta\u001b[39m\u001b[38;5;124m'\u001b[39m)\u001b[38;5;241m.\u001b[39mtext\u001b[38;5;241m.\u001b[39msplit(\u001b[38;5;124m'\u001b[39m\u001b[38;5;124m·\u001b[39m\u001b[38;5;124m'\u001b[39m)[\u001b[38;5;241m1\u001b[39m]\n\u001b[0;32m      9\u001b[0m price \u001b[38;5;241m=\u001b[39m post\u001b[38;5;241m.\u001b[39mfind(class_\u001b[38;5;241m=\u001b[39m \u001b[38;5;124m'\u001b[39m\u001b[38;5;124mpriceinfo\u001b[39m\u001b[38;5;124m'\u001b[39m)\u001b[38;5;241m.\u001b[39mtext\n\u001b[1;32m---> 10\u001b[0m br \u001b[38;5;241m=\u001b[39m \u001b[43mpost\u001b[49m\u001b[38;5;241;43m.\u001b[39;49m\u001b[43mfind\u001b[49m\u001b[43m(\u001b[49m\u001b[43mclass_\u001b[49m\u001b[38;5;241;43m=\u001b[39;49m\u001b[43m \u001b[49m\u001b[38;5;124;43m'\u001b[39;49m\u001b[38;5;124;43mpost-bedrooms\u001b[39;49m\u001b[38;5;124;43m'\u001b[39;49m\u001b[43m)\u001b[49m\u001b[38;5;241;43m.\u001b[39;49m\u001b[43mtext\u001b[49m\n\u001b[0;32m     11\u001b[0m sf \u001b[38;5;241m=\u001b[39m post\u001b[38;5;241m.\u001b[39mfind(class_\u001b[38;5;241m=\u001b[39m \u001b[38;5;124m'\u001b[39m\u001b[38;5;124mpost-sqft\u001b[39m\u001b[38;5;124m'\u001b[39m)\u001b[38;5;241m.\u001b[39mtext\n\u001b[0;32m     13\u001b[0m \u001b[38;5;66;03m# put them all in a dictionary\u001b[39;00m\n",
      "\u001b[1;31mAttributeError\u001b[0m: 'NoneType' object has no attribute 'text'"
     ]
    }
   ],
   "source": [
    "import pandas as pd\n",
    "postList = [] # empty list that we can append to. This will be our list of dictionaries\n",
    "\n",
    "for post in posts:\n",
    "    # create temporary variables with the attributes that we extract from each post\n",
    "    title = post.find(class_='titlestring').text\n",
    "    url = post.find(class_='titlestring')['href']\n",
    "    neighborhood = post.find(class_='meta').text.split('·')[1]\n",
    "    price = post.find(class_= 'priceinfo').text\n",
    "    br = post.find(class_= 'post-bedrooms').text\n",
    "    sf = post.find(class_= 'post-sqft').text\n",
    "\n",
    "    # put them all in a dictionary\n",
    "    postDict = {'title': title, 'url':url, 'neighborhood':neighborhood, \n",
    "                'price':price, 'br':br, 'sf':sf}\n",
    "    \n",
    "    # append that dictionary to our list\n",
    "    postList.append(postDict)\n",
    "    \n",
    "# turn the list into a dataframe\n",
    "df = pd.DataFrame(postList)"
   ]
  },
  {
   "cell_type": "markdown",
   "id": "d8bfb0f2",
   "metadata": {},
   "source": [
    "### Catching exceptions\n",
    "What went wrong? Let's unpack this error.\n",
    "\n",
    "It looks like we couldn't get our `br` variable, because there was no text.\n",
    "\n",
    "So what if we back up and see what that object looks like, before we try and get the text? Note that `post` will still contain the element of the `posts` list where the error occurred."
   ]
  },
  {
   "cell_type": "code",
   "execution_count": 4,
   "id": "03f6ae7f",
   "metadata": {},
   "outputs": [],
   "source": [
    "post.find(class_= 'post-bedrooms')"
   ]
  },
  {
   "cell_type": "markdown",
   "id": "d86b6373",
   "metadata": {},
   "source": [
    "Nothing! How come?"
   ]
  },
  {
   "cell_type": "markdown",
   "id": "463b694f",
   "metadata": {},
   "source": [
    "Aha. It's a `None` object - basically empty. And so we can't ask to get the text where nothing exists.\n",
    "\n",
    "How can we be more robust to these errors (technically, \"exceptions\")?\n",
    "\n",
    "One way is to use `try...except`. We `try` a block of code, and if something goes wrong, we execute the alternative code under `except`."
   ]
  },
  {
   "cell_type": "code",
   "execution_count": 5,
   "id": "8fe73192",
   "metadata": {},
   "outputs": [
    {
     "data": {
      "text/html": [
       "<div>\n",
       "<style scoped>\n",
       "    .dataframe tbody tr th:only-of-type {\n",
       "        vertical-align: middle;\n",
       "    }\n",
       "\n",
       "    .dataframe tbody tr th {\n",
       "        vertical-align: top;\n",
       "    }\n",
       "\n",
       "    .dataframe thead th {\n",
       "        text-align: right;\n",
       "    }\n",
       "</style>\n",
       "<table border=\"1\" class=\"dataframe\">\n",
       "  <thead>\n",
       "    <tr style=\"text-align: right;\">\n",
       "      <th></th>\n",
       "      <th>title</th>\n",
       "      <th>url</th>\n",
       "      <th>neighborhood</th>\n",
       "      <th>price</th>\n",
       "      <th>br</th>\n",
       "      <th>sf</th>\n",
       "    </tr>\n",
       "  </thead>\n",
       "  <tbody>\n",
       "    <tr>\n",
       "      <th>0</th>\n",
       "      <td>NaN</td>\n",
       "      <td>NaN</td>\n",
       "      <td>NaN</td>\n",
       "      <td>NaN</td>\n",
       "      <td>NaN</td>\n",
       "      <td>NaN</td>\n",
       "    </tr>\n",
       "    <tr>\n",
       "      <th>1</th>\n",
       "      <td>NaN</td>\n",
       "      <td>NaN</td>\n",
       "      <td>NaN</td>\n",
       "      <td>NaN</td>\n",
       "      <td>NaN</td>\n",
       "      <td>NaN</td>\n",
       "    </tr>\n",
       "    <tr>\n",
       "      <th>2</th>\n",
       "      <td>SR- Brand new 2 bed, 2 bath  luxury unit with ...</td>\n",
       "      <td>https://losangeles.craigslist.org/wst/apa/d/lo...</td>\n",
       "      <td>HollywoodÂ</td>\n",
       "      <td>$3,295</td>\n",
       "      <td>2br</td>\n",
       "      <td>925ft2</td>\n",
       "    </tr>\n",
       "    <tr>\n",
       "      <th>3</th>\n",
       "      <td>NaN</td>\n",
       "      <td>NaN</td>\n",
       "      <td>NaN</td>\n",
       "      <td>NaN</td>\n",
       "      <td>NaN</td>\n",
       "      <td>NaN</td>\n",
       "    </tr>\n",
       "    <tr>\n",
       "      <th>4</th>\n",
       "      <td>Affordable one bedroom near the beach</td>\n",
       "      <td>https://losangeles.craigslist.org/wst/apa/d/sa...</td>\n",
       "      <td>Santa MonicaÂ</td>\n",
       "      <td>$2,382</td>\n",
       "      <td>1br</td>\n",
       "      <td>655ft2</td>\n",
       "    </tr>\n",
       "    <tr>\n",
       "      <th>...</th>\n",
       "      <td>...</td>\n",
       "      <td>...</td>\n",
       "      <td>...</td>\n",
       "      <td>...</td>\n",
       "      <td>...</td>\n",
       "      <td>...</td>\n",
       "    </tr>\n",
       "    <tr>\n",
       "      <th>115</th>\n",
       "      <td>NaN</td>\n",
       "      <td>NaN</td>\n",
       "      <td>NaN</td>\n",
       "      <td>NaN</td>\n",
       "      <td>NaN</td>\n",
       "      <td>NaN</td>\n",
       "    </tr>\n",
       "    <tr>\n",
       "      <th>116</th>\n",
       "      <td>***********NEW BUILT GORGEOUS 4 BEDS 4.5 BATHS...</td>\n",
       "      <td>https://losangeles.craigslist.org/sfv/apa/d/su...</td>\n",
       "      <td>************** SUN VALLEY *************Â</td>\n",
       "      <td>$5,995</td>\n",
       "      <td>4br</td>\n",
       "      <td>2500ft2</td>\n",
       "    </tr>\n",
       "    <tr>\n",
       "      <th>117</th>\n",
       "      <td>NaN</td>\n",
       "      <td>NaN</td>\n",
       "      <td>NaN</td>\n",
       "      <td>NaN</td>\n",
       "      <td>NaN</td>\n",
       "      <td>NaN</td>\n",
       "    </tr>\n",
       "    <tr>\n",
       "      <th>118</th>\n",
       "      <td>In-Unit Washer/Dryer, Solid Surface Flooring, ...</td>\n",
       "      <td>https://losangeles.craigslist.org/sfv/apa/d/sa...</td>\n",
       "      <td>25910 Tournament Rd, Valencia, CAÂ</td>\n",
       "      <td>$2,290</td>\n",
       "      <td>1br</td>\n",
       "      <td>720ft2</td>\n",
       "    </tr>\n",
       "    <tr>\n",
       "      <th>119</th>\n",
       "      <td>2 BD, On-Site Management, La Verne CA</td>\n",
       "      <td>https://losangeles.craigslist.org/ant/apa/d/sa...</td>\n",
       "      <td>antelope valleyÂ</td>\n",
       "      <td>$2,575</td>\n",
       "      <td>2br</td>\n",
       "      <td>985ft2</td>\n",
       "    </tr>\n",
       "  </tbody>\n",
       "</table>\n",
       "<p>120 rows × 6 columns</p>\n",
       "</div>"
      ],
      "text/plain": [
       "                                                 title   \n",
       "0                                                  NaN  \\\n",
       "1                                                  NaN   \n",
       "2    SR- Brand new 2 bed, 2 bath  luxury unit with ...   \n",
       "3                                                  NaN   \n",
       "4                Affordable one bedroom near the beach   \n",
       "..                                                 ...   \n",
       "115                                                NaN   \n",
       "116  ***********NEW BUILT GORGEOUS 4 BEDS 4.5 BATHS...   \n",
       "117                                                NaN   \n",
       "118  In-Unit Washer/Dryer, Solid Surface Flooring, ...   \n",
       "119              2 BD, On-Site Management, La Verne CA   \n",
       "\n",
       "                                                   url   \n",
       "0                                                  NaN  \\\n",
       "1                                                  NaN   \n",
       "2    https://losangeles.craigslist.org/wst/apa/d/lo...   \n",
       "3                                                  NaN   \n",
       "4    https://losangeles.craigslist.org/wst/apa/d/sa...   \n",
       "..                                                 ...   \n",
       "115                                                NaN   \n",
       "116  https://losangeles.craigslist.org/sfv/apa/d/su...   \n",
       "117                                                NaN   \n",
       "118  https://losangeles.craigslist.org/sfv/apa/d/sa...   \n",
       "119  https://losangeles.craigslist.org/ant/apa/d/sa...   \n",
       "\n",
       "                                 neighborhood   price   br       sf  \n",
       "0                                         NaN     NaN  NaN      NaN  \n",
       "1                                         NaN     NaN  NaN      NaN  \n",
       "2                                  HollywoodÂ  $3,295  2br   925ft2  \n",
       "3                                         NaN     NaN  NaN      NaN  \n",
       "4                               Santa MonicaÂ  $2,382  1br   655ft2  \n",
       "..                                        ...     ...  ...      ...  \n",
       "115                                       NaN     NaN  NaN      NaN  \n",
       "116  ************** SUN VALLEY *************Â  $5,995  4br  2500ft2  \n",
       "117                                       NaN     NaN  NaN      NaN  \n",
       "118        25910 Tournament Rd, Valencia, CAÂ  $2,290  1br   720ft2  \n",
       "119                          antelope valleyÂ  $2,575  2br   985ft2  \n",
       "\n",
       "[120 rows x 6 columns]"
      ]
     },
     "execution_count": 5,
     "metadata": {},
     "output_type": "execute_result"
    }
   ],
   "source": [
    "postList = [] # empty list that we can append to. This will be our list of dictionaries\n",
    "\n",
    "for post in posts:\n",
    "    try:\n",
    "        # create temporary variables with the attributes that we extract from each post\n",
    "        title = post.find(class_='titlestring').text\n",
    "        url = post.find(class_='titlestring')['href']\n",
    "        neighborhood = post.find(class_='meta').text.split('·')[1]\n",
    "        price = post.find(class_= 'priceinfo').text\n",
    "        br = post.find(class_= 'post-bedrooms').text\n",
    "        sf = post.find(class_= 'post-sqft').text\n",
    "\n",
    "        # put them all in a dictionary\n",
    "        postDict = {'title': title, 'url':url, 'neighborhood':neighborhood, \n",
    "                    'price':price, 'br':br, 'sf':sf}\n",
    "    \n",
    "        # append that dictionary to our list\n",
    "        postList.append(postDict)\n",
    "    except: # we could also be more specific, e.g. except AttributeError:\n",
    "        # this is only excecuted if the code under try fails\n",
    "        # if there's a problem, we'll just append an empty dictionary\n",
    "        postList.append({})\n",
    "    \n",
    "# turn the list into a dataframe\n",
    "df = pd.DataFrame(postList)\n",
    "\n",
    "df"
   ]
  },
  {
   "cell_type": "markdown",
   "id": "2d27d213",
   "metadata": {},
   "source": [
    "So we find the errant rows - 0, 1, and lots of others.\n",
    "\n",
    "The `try...except` syntax is useful, but a blunt instrument. Notice that we lose all the data for that posting, not just the housing size.\n",
    "\n",
    "As an alternative, we could explicitly check for missing data at each step."
   ]
  },
  {
   "cell_type": "code",
   "execution_count": 6,
   "id": "e7dc205d",
   "metadata": {},
   "outputs": [
    {
     "data": {
      "text/html": [
       "<div>\n",
       "<style scoped>\n",
       "    .dataframe tbody tr th:only-of-type {\n",
       "        vertical-align: middle;\n",
       "    }\n",
       "\n",
       "    .dataframe tbody tr th {\n",
       "        vertical-align: top;\n",
       "    }\n",
       "\n",
       "    .dataframe thead th {\n",
       "        text-align: right;\n",
       "    }\n",
       "</style>\n",
       "<table border=\"1\" class=\"dataframe\">\n",
       "  <thead>\n",
       "    <tr style=\"text-align: right;\">\n",
       "      <th></th>\n",
       "      <th>title</th>\n",
       "      <th>url</th>\n",
       "      <th>neighborhood</th>\n",
       "      <th>price</th>\n",
       "      <th>br</th>\n",
       "      <th>sf</th>\n",
       "    </tr>\n",
       "  </thead>\n",
       "  <tbody>\n",
       "    <tr>\n",
       "      <th>0</th>\n",
       "      <td>1050 N. Orange Grove Ave./All Utilities Includ...</td>\n",
       "      <td>https://losangeles.craigslist.org/wst/apa/d/we...</td>\n",
       "      <td>West HollywoodÂ</td>\n",
       "      <td>$1,195</td>\n",
       "      <td>None</td>\n",
       "      <td>None</td>\n",
       "    </tr>\n",
       "    <tr>\n",
       "      <th>1</th>\n",
       "      <td>BEAUTIFUL DORMITORY STYLE HOUSING AVAILABLE - ...</td>\n",
       "      <td>https://losangeles.craigslist.org/wst/apa/d/to...</td>\n",
       "      <td>westside-southbay-310Â</td>\n",
       "      <td>$1,025</td>\n",
       "      <td>None</td>\n",
       "      <td>None</td>\n",
       "    </tr>\n",
       "    <tr>\n",
       "      <th>2</th>\n",
       "      <td>SR- Brand new 2 bed, 2 bath  luxury unit with ...</td>\n",
       "      <td>https://losangeles.craigslist.org/wst/apa/d/lo...</td>\n",
       "      <td>HollywoodÂ</td>\n",
       "      <td>$3,295</td>\n",
       "      <td>2br</td>\n",
       "      <td>925ft2</td>\n",
       "    </tr>\n",
       "    <tr>\n",
       "      <th>3</th>\n",
       "      <td>Very nice upgraded 1 bedroom 1 bath unit</td>\n",
       "      <td>https://losangeles.craigslist.org/wst/apa/d/ga...</td>\n",
       "      <td>GardenaÂ</td>\n",
       "      <td>$1,910</td>\n",
       "      <td>1br</td>\n",
       "      <td>None</td>\n",
       "    </tr>\n",
       "    <tr>\n",
       "      <th>4</th>\n",
       "      <td>Affordable one bedroom near the beach</td>\n",
       "      <td>https://losangeles.craigslist.org/wst/apa/d/sa...</td>\n",
       "      <td>Santa MonicaÂ</td>\n",
       "      <td>$2,382</td>\n",
       "      <td>1br</td>\n",
       "      <td>655ft2</td>\n",
       "    </tr>\n",
       "    <tr>\n",
       "      <th>...</th>\n",
       "      <td>...</td>\n",
       "      <td>...</td>\n",
       "      <td>...</td>\n",
       "      <td>...</td>\n",
       "      <td>...</td>\n",
       "      <td>...</td>\n",
       "    </tr>\n",
       "    <tr>\n",
       "      <th>115</th>\n",
       "      <td>Light and Bright! See Photos! Vintage Bldg / P...</td>\n",
       "      <td>https://losangeles.craigslist.org/lac/apa/d/lo...</td>\n",
       "      <td>Los Angeles / Westlake District / DTLAÂ</td>\n",
       "      <td>$2,195</td>\n",
       "      <td>1br</td>\n",
       "      <td>None</td>\n",
       "    </tr>\n",
       "    <tr>\n",
       "      <th>116</th>\n",
       "      <td>***********NEW BUILT GORGEOUS 4 BEDS 4.5 BATHS...</td>\n",
       "      <td>https://losangeles.craigslist.org/sfv/apa/d/su...</td>\n",
       "      <td>************** SUN VALLEY *************Â</td>\n",
       "      <td>$5,995</td>\n",
       "      <td>4br</td>\n",
       "      <td>2500ft2</td>\n",
       "    </tr>\n",
       "    <tr>\n",
       "      <th>117</th>\n",
       "      <td>******GREAT LOCATION SHERMAN OAKS NEAR VENTURA...</td>\n",
       "      <td>https://losangeles.craigslist.org/sfv/apa/d/sh...</td>\n",
       "      <td>**************SHERMAN OAKS / NEAR VENTURA BLVD...</td>\n",
       "      <td>$2,995</td>\n",
       "      <td>3br</td>\n",
       "      <td>None</td>\n",
       "    </tr>\n",
       "    <tr>\n",
       "      <th>118</th>\n",
       "      <td>In-Unit Washer/Dryer, Solid Surface Flooring, ...</td>\n",
       "      <td>https://losangeles.craigslist.org/sfv/apa/d/sa...</td>\n",
       "      <td>25910 Tournament Rd, Valencia, CAÂ</td>\n",
       "      <td>$2,290</td>\n",
       "      <td>1br</td>\n",
       "      <td>720ft2</td>\n",
       "    </tr>\n",
       "    <tr>\n",
       "      <th>119</th>\n",
       "      <td>2 BD, On-Site Management, La Verne CA</td>\n",
       "      <td>https://losangeles.craigslist.org/ant/apa/d/sa...</td>\n",
       "      <td>antelope valleyÂ</td>\n",
       "      <td>$2,575</td>\n",
       "      <td>2br</td>\n",
       "      <td>985ft2</td>\n",
       "    </tr>\n",
       "  </tbody>\n",
       "</table>\n",
       "<p>120 rows × 6 columns</p>\n",
       "</div>"
      ],
      "text/plain": [
       "                                                 title   \n",
       "0    1050 N. Orange Grove Ave./All Utilities Includ...  \\\n",
       "1    BEAUTIFUL DORMITORY STYLE HOUSING AVAILABLE - ...   \n",
       "2    SR- Brand new 2 bed, 2 bath  luxury unit with ...   \n",
       "3             Very nice upgraded 1 bedroom 1 bath unit   \n",
       "4                Affordable one bedroom near the beach   \n",
       "..                                                 ...   \n",
       "115  Light and Bright! See Photos! Vintage Bldg / P...   \n",
       "116  ***********NEW BUILT GORGEOUS 4 BEDS 4.5 BATHS...   \n",
       "117  ******GREAT LOCATION SHERMAN OAKS NEAR VENTURA...   \n",
       "118  In-Unit Washer/Dryer, Solid Surface Flooring, ...   \n",
       "119              2 BD, On-Site Management, La Verne CA   \n",
       "\n",
       "                                                   url   \n",
       "0    https://losangeles.craigslist.org/wst/apa/d/we...  \\\n",
       "1    https://losangeles.craigslist.org/wst/apa/d/to...   \n",
       "2    https://losangeles.craigslist.org/wst/apa/d/lo...   \n",
       "3    https://losangeles.craigslist.org/wst/apa/d/ga...   \n",
       "4    https://losangeles.craigslist.org/wst/apa/d/sa...   \n",
       "..                                                 ...   \n",
       "115  https://losangeles.craigslist.org/lac/apa/d/lo...   \n",
       "116  https://losangeles.craigslist.org/sfv/apa/d/su...   \n",
       "117  https://losangeles.craigslist.org/sfv/apa/d/sh...   \n",
       "118  https://losangeles.craigslist.org/sfv/apa/d/sa...   \n",
       "119  https://losangeles.craigslist.org/ant/apa/d/sa...   \n",
       "\n",
       "                                          neighborhood   price    br       sf  \n",
       "0                                      West HollywoodÂ  $1,195  None     None  \n",
       "1                               westside-southbay-310Â  $1,025  None     None  \n",
       "2                                           HollywoodÂ  $3,295   2br   925ft2  \n",
       "3                                             GardenaÂ  $1,910   1br     None  \n",
       "4                                        Santa MonicaÂ  $2,382   1br   655ft2  \n",
       "..                                                 ...     ...   ...      ...  \n",
       "115            Los Angeles / Westlake District / DTLAÂ  $2,195   1br     None  \n",
       "116           ************** SUN VALLEY *************Â  $5,995   4br  2500ft2  \n",
       "117  **************SHERMAN OAKS / NEAR VENTURA BLVD...  $2,995   3br     None  \n",
       "118                 25910 Tournament Rd, Valencia, CAÂ  $2,290   1br   720ft2  \n",
       "119                                   antelope valleyÂ  $2,575   2br   985ft2  \n",
       "\n",
       "[120 rows x 6 columns]"
      ]
     },
     "execution_count": 6,
     "metadata": {},
     "output_type": "execute_result"
    }
   ],
   "source": [
    "postList = [] # empty list that we can append to. This will be our list of dictionaries\n",
    "\n",
    "for post in posts:\n",
    "    title = post.find(class_='titlestring').text\n",
    "    url = post.find(class_='titlestring')['href']\n",
    "    neighborhood = post.find(class_='meta').text.split('·')[1]\n",
    "    price = post.find(class_= 'priceinfo').text\n",
    "    br_tmp = post.find(class_= 'post-bedrooms')\n",
    "    if br_tmp is None:\n",
    "        br = None\n",
    "    else:\n",
    "        br = br_tmp.text\n",
    "    \n",
    "    # we can also have our if..else statements as a one-liner\n",
    "    sf_tmp = post.find(class_= 'post-sqft')\n",
    "    sf = None if sf_tmp is None else sf_tmp.text\n",
    "\n",
    "    # put them all in a dictionary\n",
    "    postDict = {'title': title, 'url':url, 'neighborhood':neighborhood, \n",
    "                'price':price, 'br':br, 'sf':sf}\n",
    "    \n",
    "    # append that dictionary to our list\n",
    "    postList.append(postDict)\n",
    "    \n",
    "df = pd.DataFrame(postList)\n",
    "df"
   ]
  },
  {
   "cell_type": "markdown",
   "id": "ebfd04e7",
   "metadata": {},
   "source": [
    "Notice that we got some partial data for these rows."
   ]
  },
  {
   "cell_type": "markdown",
   "id": "closing-edward",
   "metadata": {},
   "source": [
    "### Plotting\n",
    "\n",
    "Now let's plot the distribution of price. A box plot would be a good choice here."
   ]
  },
  {
   "cell_type": "code",
   "execution_count": 7,
   "id": "modern-instruction",
   "metadata": {},
   "outputs": [
    {
     "ename": "ImportError",
     "evalue": "matplotlib is required for plotting when the default backend \"matplotlib\" is selected.",
     "output_type": "error",
     "traceback": [
      "\u001b[1;31m---------------------------------------------------------------------------\u001b[0m",
      "\u001b[1;31mImportError\u001b[0m                               Traceback (most recent call last)",
      "Cell \u001b[1;32mIn[7], line 1\u001b[0m\n\u001b[1;32m----> 1\u001b[0m \u001b[43mdf\u001b[49m\u001b[38;5;241;43m.\u001b[39;49m\u001b[43mboxplot\u001b[49m\u001b[43m(\u001b[49m\u001b[38;5;124;43m'\u001b[39;49m\u001b[38;5;124;43mprice\u001b[39;49m\u001b[38;5;124;43m'\u001b[39;49m\u001b[43m)\u001b[49m\n",
      "File \u001b[1;32m~\\anaconda3\\envs\\uds\\lib\\site-packages\\pandas\\plotting\\_core.py:506\u001b[0m, in \u001b[0;36mboxplot_frame\u001b[1;34m(self, column, by, ax, fontsize, rot, grid, figsize, layout, return_type, backend, **kwargs)\u001b[0m\n\u001b[0;32m    490\u001b[0m \u001b[38;5;129m@Substitution\u001b[39m(data\u001b[38;5;241m=\u001b[39m\u001b[38;5;124m\"\u001b[39m\u001b[38;5;124m\"\u001b[39m, backend\u001b[38;5;241m=\u001b[39m_backend_doc)\n\u001b[0;32m    491\u001b[0m \u001b[38;5;129m@Appender\u001b[39m(_boxplot_doc)\n\u001b[0;32m    492\u001b[0m \u001b[38;5;28;01mdef\u001b[39;00m \u001b[38;5;21mboxplot_frame\u001b[39m(\n\u001b[1;32m   (...)\u001b[0m\n\u001b[0;32m    504\u001b[0m     \u001b[38;5;241m*\u001b[39m\u001b[38;5;241m*\u001b[39mkwargs,\n\u001b[0;32m    505\u001b[0m ):\n\u001b[1;32m--> 506\u001b[0m     plot_backend \u001b[38;5;241m=\u001b[39m \u001b[43m_get_plot_backend\u001b[49m\u001b[43m(\u001b[49m\u001b[43mbackend\u001b[49m\u001b[43m)\u001b[49m\n\u001b[0;32m    507\u001b[0m     \u001b[38;5;28;01mreturn\u001b[39;00m plot_backend\u001b[38;5;241m.\u001b[39mboxplot_frame(\n\u001b[0;32m    508\u001b[0m         \u001b[38;5;28mself\u001b[39m,\n\u001b[0;32m    509\u001b[0m         column\u001b[38;5;241m=\u001b[39mcolumn,\n\u001b[1;32m   (...)\u001b[0m\n\u001b[0;32m    518\u001b[0m         \u001b[38;5;241m*\u001b[39m\u001b[38;5;241m*\u001b[39mkwargs,\n\u001b[0;32m    519\u001b[0m     )\n",
      "File \u001b[1;32m~\\anaconda3\\envs\\uds\\lib\\site-packages\\pandas\\plotting\\_core.py:1862\u001b[0m, in \u001b[0;36m_get_plot_backend\u001b[1;34m(backend)\u001b[0m\n\u001b[0;32m   1859\u001b[0m \u001b[38;5;28;01mif\u001b[39;00m backend_str \u001b[38;5;129;01min\u001b[39;00m _backends:\n\u001b[0;32m   1860\u001b[0m     \u001b[38;5;28;01mreturn\u001b[39;00m _backends[backend_str]\n\u001b[1;32m-> 1862\u001b[0m module \u001b[38;5;241m=\u001b[39m \u001b[43m_load_backend\u001b[49m\u001b[43m(\u001b[49m\u001b[43mbackend_str\u001b[49m\u001b[43m)\u001b[49m\n\u001b[0;32m   1863\u001b[0m _backends[backend_str] \u001b[38;5;241m=\u001b[39m module\n\u001b[0;32m   1864\u001b[0m \u001b[38;5;28;01mreturn\u001b[39;00m module\n",
      "File \u001b[1;32m~\\anaconda3\\envs\\uds\\lib\\site-packages\\pandas\\plotting\\_core.py:1794\u001b[0m, in \u001b[0;36m_load_backend\u001b[1;34m(backend)\u001b[0m\n\u001b[0;32m   1792\u001b[0m         module \u001b[38;5;241m=\u001b[39m importlib\u001b[38;5;241m.\u001b[39mimport_module(\u001b[38;5;124m\"\u001b[39m\u001b[38;5;124mpandas.plotting._matplotlib\u001b[39m\u001b[38;5;124m\"\u001b[39m)\n\u001b[0;32m   1793\u001b[0m     \u001b[38;5;28;01mexcept\u001b[39;00m \u001b[38;5;167;01mImportError\u001b[39;00m:\n\u001b[1;32m-> 1794\u001b[0m         \u001b[38;5;28;01mraise\u001b[39;00m \u001b[38;5;167;01mImportError\u001b[39;00m(\n\u001b[0;32m   1795\u001b[0m             \u001b[38;5;124m\"\u001b[39m\u001b[38;5;124mmatplotlib is required for plotting when the \u001b[39m\u001b[38;5;124m\"\u001b[39m\n\u001b[0;32m   1796\u001b[0m             \u001b[38;5;124m'\u001b[39m\u001b[38;5;124mdefault backend \u001b[39m\u001b[38;5;124m\"\u001b[39m\u001b[38;5;124mmatplotlib\u001b[39m\u001b[38;5;124m\"\u001b[39m\u001b[38;5;124m is selected.\u001b[39m\u001b[38;5;124m'\u001b[39m\n\u001b[0;32m   1797\u001b[0m         ) \u001b[38;5;28;01mfrom\u001b[39;00m \u001b[38;5;28mNone\u001b[39m\n\u001b[0;32m   1798\u001b[0m     \u001b[38;5;28;01mreturn\u001b[39;00m module\n\u001b[0;32m   1800\u001b[0m found_backend \u001b[38;5;241m=\u001b[39m \u001b[38;5;28;01mFalse\u001b[39;00m\n",
      "\u001b[1;31mImportError\u001b[0m: matplotlib is required for plotting when the default backend \"matplotlib\" is selected."
     ]
    }
   ],
   "source": [
    "df.boxplot('price')"
   ]
  },
  {
   "cell_type": "markdown",
   "id": "aa1d7f29",
   "metadata": {},
   "source": [
    "Oops. What went wrong? \n",
    "\n",
    "The error message isn't terribly helpful, so let's look at the data."
   ]
  },
  {
   "cell_type": "code",
   "execution_count": 8,
   "id": "db480863",
   "metadata": {},
   "outputs": [
    {
     "data": {
      "text/plain": [
       "0    $1,195\n",
       "1    $1,025\n",
       "2    $3,295\n",
       "3    $1,910\n",
       "4    $2,382\n",
       "Name: price, dtype: object"
      ]
     },
     "execution_count": 8,
     "metadata": {},
     "output_type": "execute_result"
    }
   ],
   "source": [
    "df.price.head()"
   ]
  },
  {
   "cell_type": "markdown",
   "id": "e259f259",
   "metadata": {},
   "source": [
    "Aha. We can't do a boxplot of a string! So let's convert it to a number. This is a three-stage process:\n",
    "* Remove the `$` (replace `$` with an empty string)\n",
    "* Do the same for the `,`\n",
    "* Convert to a float. The pandas `astype` function is useful here.\n",
    "\n",
    "Let's do this and store the output in a new column, `price_numeric`."
   ]
  },
  {
   "cell_type": "code",
   "execution_count": 9,
   "id": "nuclear-temperature",
   "metadata": {},
   "outputs": [],
   "source": [
    "df['price_numeric'] = df.price.str.replace('$','').str.replace(',','').astype(float)"
   ]
  },
  {
   "cell_type": "markdown",
   "id": "7c6a0612-4308-4577-8a2c-4f050aad1cd4",
   "metadata": {},
   "source": [
    "<div class=\"alert alert-block alert-info\">\n",
    "<strong>Exercise:</strong> Convert the sf and br fields to numeric in the same way.\n",
    "</div>"
   ]
  },
  {
   "cell_type": "code",
   "execution_count": 10,
   "id": "565d3832-bb4a-4fe1-91da-bf3ccb26361d",
   "metadata": {},
   "outputs": [
    {
     "data": {
      "text/html": [
       "<div>\n",
       "<style scoped>\n",
       "    .dataframe tbody tr th:only-of-type {\n",
       "        vertical-align: middle;\n",
       "    }\n",
       "\n",
       "    .dataframe tbody tr th {\n",
       "        vertical-align: top;\n",
       "    }\n",
       "\n",
       "    .dataframe thead th {\n",
       "        text-align: right;\n",
       "    }\n",
       "</style>\n",
       "<table border=\"1\" class=\"dataframe\">\n",
       "  <thead>\n",
       "    <tr style=\"text-align: right;\">\n",
       "      <th></th>\n",
       "      <th>sf</th>\n",
       "      <th>br</th>\n",
       "    </tr>\n",
       "  </thead>\n",
       "  <tbody>\n",
       "    <tr>\n",
       "      <th>0</th>\n",
       "      <td>NaN</td>\n",
       "      <td>NaN</td>\n",
       "    </tr>\n",
       "    <tr>\n",
       "      <th>1</th>\n",
       "      <td>NaN</td>\n",
       "      <td>NaN</td>\n",
       "    </tr>\n",
       "    <tr>\n",
       "      <th>2</th>\n",
       "      <td>925.0</td>\n",
       "      <td>2.0</td>\n",
       "    </tr>\n",
       "    <tr>\n",
       "      <th>3</th>\n",
       "      <td>NaN</td>\n",
       "      <td>1.0</td>\n",
       "    </tr>\n",
       "    <tr>\n",
       "      <th>4</th>\n",
       "      <td>655.0</td>\n",
       "      <td>1.0</td>\n",
       "    </tr>\n",
       "    <tr>\n",
       "      <th>...</th>\n",
       "      <td>...</td>\n",
       "      <td>...</td>\n",
       "    </tr>\n",
       "    <tr>\n",
       "      <th>115</th>\n",
       "      <td>NaN</td>\n",
       "      <td>1.0</td>\n",
       "    </tr>\n",
       "    <tr>\n",
       "      <th>116</th>\n",
       "      <td>2500.0</td>\n",
       "      <td>4.0</td>\n",
       "    </tr>\n",
       "    <tr>\n",
       "      <th>117</th>\n",
       "      <td>NaN</td>\n",
       "      <td>3.0</td>\n",
       "    </tr>\n",
       "    <tr>\n",
       "      <th>118</th>\n",
       "      <td>720.0</td>\n",
       "      <td>1.0</td>\n",
       "    </tr>\n",
       "    <tr>\n",
       "      <th>119</th>\n",
       "      <td>985.0</td>\n",
       "      <td>2.0</td>\n",
       "    </tr>\n",
       "  </tbody>\n",
       "</table>\n",
       "<p>120 rows × 2 columns</p>\n",
       "</div>"
      ],
      "text/plain": [
       "         sf   br\n",
       "0       NaN  NaN\n",
       "1       NaN  NaN\n",
       "2     925.0  2.0\n",
       "3       NaN  1.0\n",
       "4     655.0  1.0\n",
       "..      ...  ...\n",
       "115     NaN  1.0\n",
       "116  2500.0  4.0\n",
       "117     NaN  3.0\n",
       "118   720.0  1.0\n",
       "119   985.0  2.0\n",
       "\n",
       "[120 rows x 2 columns]"
      ]
     },
     "execution_count": 10,
     "metadata": {},
     "output_type": "execute_result"
    }
   ],
   "source": [
    "# for simplicity, I'll just write over the old column name rather than create \n",
    "# new columns sf_numeric and br_numeric\n",
    "\n",
    "df['sf'] = df.sf.str.replace('ft2','').astype(float)\n",
    "df['br'] = df.br.str.replace('br','').astype(float)\n",
    "df[['sf','br']]"
   ]
  },
  {
   "cell_type": "code",
   "execution_count": 11,
   "id": "willing-married",
   "metadata": {},
   "outputs": [
    {
     "ename": "ImportError",
     "evalue": "DLL load failed while importing _imaging: The specified module could not be found.",
     "output_type": "error",
     "traceback": [
      "\u001b[1;31m---------------------------------------------------------------------------\u001b[0m",
      "\u001b[1;31mImportError\u001b[0m                               Traceback (most recent call last)",
      "Cell \u001b[1;32mIn[11], line 1\u001b[0m\n\u001b[1;32m----> 1\u001b[0m \u001b[43mget_ipython\u001b[49m\u001b[43m(\u001b[49m\u001b[43m)\u001b[49m\u001b[38;5;241;43m.\u001b[39;49m\u001b[43mrun_line_magic\u001b[49m\u001b[43m(\u001b[49m\u001b[38;5;124;43m'\u001b[39;49m\u001b[38;5;124;43mmatplotlib\u001b[39;49m\u001b[38;5;124;43m'\u001b[39;49m\u001b[43m,\u001b[49m\u001b[43m \u001b[49m\u001b[38;5;124;43m'\u001b[39;49m\u001b[38;5;124;43minline\u001b[39;49m\u001b[38;5;124;43m'\u001b[39;49m\u001b[43m)\u001b[49m\n\u001b[0;32m      2\u001b[0m df\u001b[38;5;241m.\u001b[39mboxplot(\u001b[38;5;124m'\u001b[39m\u001b[38;5;124mprice_numeric\u001b[39m\u001b[38;5;124m'\u001b[39m)\n",
      "File \u001b[1;32m~\\anaconda3\\envs\\uds\\lib\\site-packages\\IPython\\core\\interactiveshell.py:2369\u001b[0m, in \u001b[0;36mInteractiveShell.run_line_magic\u001b[1;34m(self, magic_name, line, _stack_depth)\u001b[0m\n\u001b[0;32m   2367\u001b[0m     kwargs[\u001b[38;5;124m'\u001b[39m\u001b[38;5;124mlocal_ns\u001b[39m\u001b[38;5;124m'\u001b[39m] \u001b[38;5;241m=\u001b[39m \u001b[38;5;28mself\u001b[39m\u001b[38;5;241m.\u001b[39mget_local_scope(stack_depth)\n\u001b[0;32m   2368\u001b[0m \u001b[38;5;28;01mwith\u001b[39;00m \u001b[38;5;28mself\u001b[39m\u001b[38;5;241m.\u001b[39mbuiltin_trap:\n\u001b[1;32m-> 2369\u001b[0m     result \u001b[38;5;241m=\u001b[39m fn(\u001b[38;5;241m*\u001b[39margs, \u001b[38;5;241m*\u001b[39m\u001b[38;5;241m*\u001b[39mkwargs)\n\u001b[0;32m   2371\u001b[0m \u001b[38;5;66;03m# The code below prevents the output from being displayed\u001b[39;00m\n\u001b[0;32m   2372\u001b[0m \u001b[38;5;66;03m# when using magics with decodator @output_can_be_silenced\u001b[39;00m\n\u001b[0;32m   2373\u001b[0m \u001b[38;5;66;03m# when the last Python token in the expression is a ';'.\u001b[39;00m\n\u001b[0;32m   2374\u001b[0m \u001b[38;5;28;01mif\u001b[39;00m \u001b[38;5;28mgetattr\u001b[39m(fn, magic\u001b[38;5;241m.\u001b[39mMAGIC_OUTPUT_CAN_BE_SILENCED, \u001b[38;5;28;01mFalse\u001b[39;00m):\n",
      "File \u001b[1;32m~\\anaconda3\\envs\\uds\\lib\\site-packages\\IPython\\core\\magics\\pylab.py:99\u001b[0m, in \u001b[0;36mPylabMagics.matplotlib\u001b[1;34m(self, line)\u001b[0m\n\u001b[0;32m     97\u001b[0m     \u001b[38;5;28mprint\u001b[39m(\u001b[38;5;124m\"\u001b[39m\u001b[38;5;124mAvailable matplotlib backends: \u001b[39m\u001b[38;5;132;01m%s\u001b[39;00m\u001b[38;5;124m\"\u001b[39m \u001b[38;5;241m%\u001b[39m backends_list)\n\u001b[0;32m     98\u001b[0m \u001b[38;5;28;01melse\u001b[39;00m:\n\u001b[1;32m---> 99\u001b[0m     gui, backend \u001b[38;5;241m=\u001b[39m \u001b[38;5;28;43mself\u001b[39;49m\u001b[38;5;241;43m.\u001b[39;49m\u001b[43mshell\u001b[49m\u001b[38;5;241;43m.\u001b[39;49m\u001b[43menable_matplotlib\u001b[49m\u001b[43m(\u001b[49m\u001b[43margs\u001b[49m\u001b[38;5;241;43m.\u001b[39;49m\u001b[43mgui\u001b[49m\u001b[38;5;241;43m.\u001b[39;49m\u001b[43mlower\u001b[49m\u001b[43m(\u001b[49m\u001b[43m)\u001b[49m\u001b[43m \u001b[49m\u001b[38;5;28;43;01mif\u001b[39;49;00m\u001b[43m \u001b[49m\u001b[38;5;28;43misinstance\u001b[39;49m\u001b[43m(\u001b[49m\u001b[43margs\u001b[49m\u001b[38;5;241;43m.\u001b[39;49m\u001b[43mgui\u001b[49m\u001b[43m,\u001b[49m\u001b[43m \u001b[49m\u001b[38;5;28;43mstr\u001b[39;49m\u001b[43m)\u001b[49m\u001b[43m \u001b[49m\u001b[38;5;28;43;01melse\u001b[39;49;00m\u001b[43m \u001b[49m\u001b[43margs\u001b[49m\u001b[38;5;241;43m.\u001b[39;49m\u001b[43mgui\u001b[49m\u001b[43m)\u001b[49m\n\u001b[0;32m    100\u001b[0m     \u001b[38;5;28mself\u001b[39m\u001b[38;5;241m.\u001b[39m_show_matplotlib_backend(args\u001b[38;5;241m.\u001b[39mgui, backend)\n",
      "File \u001b[1;32m~\\anaconda3\\envs\\uds\\lib\\site-packages\\IPython\\core\\interactiveshell.py:3540\u001b[0m, in \u001b[0;36mInteractiveShell.enable_matplotlib\u001b[1;34m(self, gui)\u001b[0m\n\u001b[0;32m   3519\u001b[0m \u001b[38;5;28;01mdef\u001b[39;00m \u001b[38;5;21menable_matplotlib\u001b[39m(\u001b[38;5;28mself\u001b[39m, gui\u001b[38;5;241m=\u001b[39m\u001b[38;5;28;01mNone\u001b[39;00m):\n\u001b[0;32m   3520\u001b[0m     \u001b[38;5;124;03m\"\"\"Enable interactive matplotlib and inline figure support.\u001b[39;00m\n\u001b[0;32m   3521\u001b[0m \n\u001b[0;32m   3522\u001b[0m \u001b[38;5;124;03m    This takes the following steps:\u001b[39;00m\n\u001b[1;32m   (...)\u001b[0m\n\u001b[0;32m   3538\u001b[0m \u001b[38;5;124;03m        display figures inline.\u001b[39;00m\n\u001b[0;32m   3539\u001b[0m \u001b[38;5;124;03m    \"\"\"\u001b[39;00m\n\u001b[1;32m-> 3540\u001b[0m     \u001b[38;5;28;01mfrom\u001b[39;00m \u001b[38;5;21;01mmatplotlib_inline\u001b[39;00m\u001b[38;5;21;01m.\u001b[39;00m\u001b[38;5;21;01mbackend_inline\u001b[39;00m \u001b[38;5;28;01mimport\u001b[39;00m configure_inline_support\n\u001b[0;32m   3542\u001b[0m     \u001b[38;5;28;01mfrom\u001b[39;00m \u001b[38;5;21;01mIPython\u001b[39;00m\u001b[38;5;21;01m.\u001b[39;00m\u001b[38;5;21;01mcore\u001b[39;00m \u001b[38;5;28;01mimport\u001b[39;00m pylabtools \u001b[38;5;28;01mas\u001b[39;00m pt\n\u001b[0;32m   3543\u001b[0m     gui, backend \u001b[38;5;241m=\u001b[39m pt\u001b[38;5;241m.\u001b[39mfind_gui_and_backend(gui, \u001b[38;5;28mself\u001b[39m\u001b[38;5;241m.\u001b[39mpylab_gui_select)\n",
      "File \u001b[1;32m~\\anaconda3\\envs\\uds\\lib\\site-packages\\matplotlib_inline\\__init__.py:1\u001b[0m\n\u001b[1;32m----> 1\u001b[0m \u001b[38;5;28;01mfrom\u001b[39;00m \u001b[38;5;21;01m.\u001b[39;00m \u001b[38;5;28;01mimport\u001b[39;00m backend_inline, config  \u001b[38;5;66;03m# noqa\u001b[39;00m\n\u001b[0;32m      2\u001b[0m __version__ \u001b[38;5;241m=\u001b[39m \u001b[38;5;124m\"\u001b[39m\u001b[38;5;124m0.1.6\u001b[39m\u001b[38;5;124m\"\u001b[39m\n",
      "File \u001b[1;32m~\\anaconda3\\envs\\uds\\lib\\site-packages\\matplotlib_inline\\backend_inline.py:6\u001b[0m\n\u001b[0;32m      1\u001b[0m \u001b[38;5;124;03m\"\"\"A matplotlib backend for publishing figures via display_data\"\"\"\u001b[39;00m\n\u001b[0;32m      3\u001b[0m \u001b[38;5;66;03m# Copyright (c) IPython Development Team.\u001b[39;00m\n\u001b[0;32m      4\u001b[0m \u001b[38;5;66;03m# Distributed under the terms of the BSD 3-Clause License.\u001b[39;00m\n\u001b[1;32m----> 6\u001b[0m \u001b[38;5;28;01mimport\u001b[39;00m \u001b[38;5;21;01mmatplotlib\u001b[39;00m\n\u001b[0;32m      7\u001b[0m \u001b[38;5;28;01mfrom\u001b[39;00m \u001b[38;5;21;01mmatplotlib\u001b[39;00m \u001b[38;5;28;01mimport\u001b[39;00m colors\n\u001b[0;32m      8\u001b[0m \u001b[38;5;28;01mfrom\u001b[39;00m \u001b[38;5;21;01mmatplotlib\u001b[39;00m\u001b[38;5;21;01m.\u001b[39;00m\u001b[38;5;21;01mbackends\u001b[39;00m \u001b[38;5;28;01mimport\u001b[39;00m backend_agg\n",
      "File \u001b[1;32m~\\anaconda3\\envs\\uds\\lib\\site-packages\\matplotlib\\__init__.py:131\u001b[0m\n\u001b[0;32m    127\u001b[0m \u001b[38;5;28;01mfrom\u001b[39;00m \u001b[38;5;21;01mpackaging\u001b[39;00m\u001b[38;5;21;01m.\u001b[39;00m\u001b[38;5;21;01mversion\u001b[39;00m \u001b[38;5;28;01mimport\u001b[39;00m parse \u001b[38;5;28;01mas\u001b[39;00m parse_version\n\u001b[0;32m    129\u001b[0m \u001b[38;5;66;03m# cbook must import matplotlib only within function\u001b[39;00m\n\u001b[0;32m    130\u001b[0m \u001b[38;5;66;03m# definitions, so it is safe to import from it here.\u001b[39;00m\n\u001b[1;32m--> 131\u001b[0m \u001b[38;5;28;01mfrom\u001b[39;00m \u001b[38;5;21;01m.\u001b[39;00m \u001b[38;5;28;01mimport\u001b[39;00m _api, _version, cbook, _docstring, rcsetup\n\u001b[0;32m    132\u001b[0m \u001b[38;5;28;01mfrom\u001b[39;00m \u001b[38;5;21;01mmatplotlib\u001b[39;00m\u001b[38;5;21;01m.\u001b[39;00m\u001b[38;5;21;01mcbook\u001b[39;00m \u001b[38;5;28;01mimport\u001b[39;00m sanitize_sequence\n\u001b[0;32m    133\u001b[0m \u001b[38;5;28;01mfrom\u001b[39;00m \u001b[38;5;21;01mmatplotlib\u001b[39;00m\u001b[38;5;21;01m.\u001b[39;00m\u001b[38;5;21;01m_api\u001b[39;00m \u001b[38;5;28;01mimport\u001b[39;00m MatplotlibDeprecationWarning\n",
      "File \u001b[1;32m~\\anaconda3\\envs\\uds\\lib\\site-packages\\matplotlib\\rcsetup.py:27\u001b[0m\n\u001b[0;32m     25\u001b[0m \u001b[38;5;28;01mfrom\u001b[39;00m \u001b[38;5;21;01mmatplotlib\u001b[39;00m \u001b[38;5;28;01mimport\u001b[39;00m _api, cbook\n\u001b[0;32m     26\u001b[0m \u001b[38;5;28;01mfrom\u001b[39;00m \u001b[38;5;21;01mmatplotlib\u001b[39;00m\u001b[38;5;21;01m.\u001b[39;00m\u001b[38;5;21;01mcbook\u001b[39;00m \u001b[38;5;28;01mimport\u001b[39;00m ls_mapper\n\u001b[1;32m---> 27\u001b[0m \u001b[38;5;28;01mfrom\u001b[39;00m \u001b[38;5;21;01mmatplotlib\u001b[39;00m\u001b[38;5;21;01m.\u001b[39;00m\u001b[38;5;21;01mcolors\u001b[39;00m \u001b[38;5;28;01mimport\u001b[39;00m Colormap, is_color_like\n\u001b[0;32m     28\u001b[0m \u001b[38;5;28;01mfrom\u001b[39;00m \u001b[38;5;21;01mmatplotlib\u001b[39;00m\u001b[38;5;21;01m.\u001b[39;00m\u001b[38;5;21;01m_fontconfig_pattern\u001b[39;00m \u001b[38;5;28;01mimport\u001b[39;00m parse_fontconfig_pattern\n\u001b[0;32m     29\u001b[0m \u001b[38;5;28;01mfrom\u001b[39;00m \u001b[38;5;21;01mmatplotlib\u001b[39;00m\u001b[38;5;21;01m.\u001b[39;00m\u001b[38;5;21;01m_enums\u001b[39;00m \u001b[38;5;28;01mimport\u001b[39;00m JoinStyle, CapStyle\n",
      "File \u001b[1;32m~\\anaconda3\\envs\\uds\\lib\\site-packages\\matplotlib\\colors.py:51\u001b[0m\n\u001b[0;32m     49\u001b[0m \u001b[38;5;28;01mfrom\u001b[39;00m \u001b[38;5;21;01mnumbers\u001b[39;00m \u001b[38;5;28;01mimport\u001b[39;00m Number\n\u001b[0;32m     50\u001b[0m \u001b[38;5;28;01mimport\u001b[39;00m \u001b[38;5;21;01mre\u001b[39;00m\n\u001b[1;32m---> 51\u001b[0m \u001b[38;5;28;01mfrom\u001b[39;00m \u001b[38;5;21;01mPIL\u001b[39;00m \u001b[38;5;28;01mimport\u001b[39;00m Image\n\u001b[0;32m     52\u001b[0m \u001b[38;5;28;01mfrom\u001b[39;00m \u001b[38;5;21;01mPIL\u001b[39;00m\u001b[38;5;21;01m.\u001b[39;00m\u001b[38;5;21;01mPngImagePlugin\u001b[39;00m \u001b[38;5;28;01mimport\u001b[39;00m PngInfo\n\u001b[0;32m     54\u001b[0m \u001b[38;5;28;01mimport\u001b[39;00m \u001b[38;5;21;01mmatplotlib\u001b[39;00m \u001b[38;5;28;01mas\u001b[39;00m \u001b[38;5;21;01mmpl\u001b[39;00m\n",
      "File \u001b[1;32m~\\anaconda3\\envs\\uds\\lib\\site-packages\\PIL\\Image.py:103\u001b[0m\n\u001b[0;32m     94\u001b[0m MAX_IMAGE_PIXELS \u001b[38;5;241m=\u001b[39m \u001b[38;5;28mint\u001b[39m(\u001b[38;5;241m1024\u001b[39m \u001b[38;5;241m*\u001b[39m \u001b[38;5;241m1024\u001b[39m \u001b[38;5;241m*\u001b[39m \u001b[38;5;241m1024\u001b[39m \u001b[38;5;241m/\u001b[39m\u001b[38;5;241m/\u001b[39m \u001b[38;5;241m4\u001b[39m \u001b[38;5;241m/\u001b[39m\u001b[38;5;241m/\u001b[39m \u001b[38;5;241m3\u001b[39m)\n\u001b[0;32m     97\u001b[0m \u001b[38;5;28;01mtry\u001b[39;00m:\n\u001b[0;32m     98\u001b[0m     \u001b[38;5;66;03m# If the _imaging C module is not present, Pillow will not load.\u001b[39;00m\n\u001b[0;32m     99\u001b[0m     \u001b[38;5;66;03m# Note that other modules should not refer to _imaging directly;\u001b[39;00m\n\u001b[0;32m    100\u001b[0m     \u001b[38;5;66;03m# import Image and use the Image.core variable instead.\u001b[39;00m\n\u001b[0;32m    101\u001b[0m     \u001b[38;5;66;03m# Also note that Image.core is not a publicly documented interface,\u001b[39;00m\n\u001b[0;32m    102\u001b[0m     \u001b[38;5;66;03m# and should be considered private and subject to change.\u001b[39;00m\n\u001b[1;32m--> 103\u001b[0m     \u001b[38;5;28;01mfrom\u001b[39;00m \u001b[38;5;21;01m.\u001b[39;00m \u001b[38;5;28;01mimport\u001b[39;00m _imaging \u001b[38;5;28;01mas\u001b[39;00m core\n\u001b[0;32m    105\u001b[0m     \u001b[38;5;28;01mif\u001b[39;00m __version__ \u001b[38;5;241m!=\u001b[39m \u001b[38;5;28mgetattr\u001b[39m(core, \u001b[38;5;124m\"\u001b[39m\u001b[38;5;124mPILLOW_VERSION\u001b[39m\u001b[38;5;124m\"\u001b[39m, \u001b[38;5;28;01mNone\u001b[39;00m):\n\u001b[0;32m    106\u001b[0m         msg \u001b[38;5;241m=\u001b[39m (\n\u001b[0;32m    107\u001b[0m             \u001b[38;5;124m\"\u001b[39m\u001b[38;5;124mThe _imaging extension was built for another version of Pillow or PIL:\u001b[39m\u001b[38;5;130;01m\\n\u001b[39;00m\u001b[38;5;124m\"\u001b[39m\n\u001b[0;32m    108\u001b[0m             \u001b[38;5;124mf\u001b[39m\u001b[38;5;124m\"\u001b[39m\u001b[38;5;124mCore version: \u001b[39m\u001b[38;5;132;01m{\u001b[39;00m\u001b[38;5;28mgetattr\u001b[39m(core, \u001b[38;5;124m'\u001b[39m\u001b[38;5;124mPILLOW_VERSION\u001b[39m\u001b[38;5;124m'\u001b[39m, \u001b[38;5;28;01mNone\u001b[39;00m)\u001b[38;5;132;01m}\u001b[39;00m\u001b[38;5;130;01m\\n\u001b[39;00m\u001b[38;5;124m\"\u001b[39m\n\u001b[0;32m    109\u001b[0m             \u001b[38;5;124mf\u001b[39m\u001b[38;5;124m\"\u001b[39m\u001b[38;5;124mPillow version: \u001b[39m\u001b[38;5;132;01m{\u001b[39;00m__version__\u001b[38;5;132;01m}\u001b[39;00m\u001b[38;5;124m\"\u001b[39m\n\u001b[0;32m    110\u001b[0m         )\n",
      "\u001b[1;31mImportError\u001b[0m: DLL load failed while importing _imaging: The specified module could not be found."
     ]
    }
   ],
   "source": [
    "%matplotlib inline\n",
    "df.boxplot('price_numeric')"
   ]
  },
  {
   "cell_type": "markdown",
   "id": "2e9ef7cc",
   "metadata": {},
   "source": [
    "We can also break it out by neighborhood using the `by` argument.\n",
    "\n",
    "But what's the problem here?"
   ]
  },
  {
   "cell_type": "code",
   "execution_count": 12,
   "id": "damaged-adelaide",
   "metadata": {},
   "outputs": [
    {
     "ename": "ImportError",
     "evalue": "matplotlib is required for plotting when the default backend \"matplotlib\" is selected.",
     "output_type": "error",
     "traceback": [
      "\u001b[1;31m---------------------------------------------------------------------------\u001b[0m",
      "\u001b[1;31mImportError\u001b[0m                               Traceback (most recent call last)",
      "Cell \u001b[1;32mIn[12], line 1\u001b[0m\n\u001b[1;32m----> 1\u001b[0m \u001b[43mdf\u001b[49m\u001b[38;5;241;43m.\u001b[39;49m\u001b[43mboxplot\u001b[49m\u001b[43m(\u001b[49m\u001b[38;5;124;43m'\u001b[39;49m\u001b[38;5;124;43mprice_numeric\u001b[39;49m\u001b[38;5;124;43m'\u001b[39;49m\u001b[43m,\u001b[49m\u001b[43m \u001b[49m\u001b[43mby\u001b[49m\u001b[38;5;241;43m=\u001b[39;49m\u001b[38;5;124;43m'\u001b[39;49m\u001b[38;5;124;43mneighborhood\u001b[39;49m\u001b[38;5;124;43m'\u001b[39;49m\u001b[43m)\u001b[49m\n",
      "File \u001b[1;32m~\\anaconda3\\envs\\uds\\lib\\site-packages\\pandas\\plotting\\_core.py:506\u001b[0m, in \u001b[0;36mboxplot_frame\u001b[1;34m(self, column, by, ax, fontsize, rot, grid, figsize, layout, return_type, backend, **kwargs)\u001b[0m\n\u001b[0;32m    490\u001b[0m \u001b[38;5;129m@Substitution\u001b[39m(data\u001b[38;5;241m=\u001b[39m\u001b[38;5;124m\"\u001b[39m\u001b[38;5;124m\"\u001b[39m, backend\u001b[38;5;241m=\u001b[39m_backend_doc)\n\u001b[0;32m    491\u001b[0m \u001b[38;5;129m@Appender\u001b[39m(_boxplot_doc)\n\u001b[0;32m    492\u001b[0m \u001b[38;5;28;01mdef\u001b[39;00m \u001b[38;5;21mboxplot_frame\u001b[39m(\n\u001b[1;32m   (...)\u001b[0m\n\u001b[0;32m    504\u001b[0m     \u001b[38;5;241m*\u001b[39m\u001b[38;5;241m*\u001b[39mkwargs,\n\u001b[0;32m    505\u001b[0m ):\n\u001b[1;32m--> 506\u001b[0m     plot_backend \u001b[38;5;241m=\u001b[39m \u001b[43m_get_plot_backend\u001b[49m\u001b[43m(\u001b[49m\u001b[43mbackend\u001b[49m\u001b[43m)\u001b[49m\n\u001b[0;32m    507\u001b[0m     \u001b[38;5;28;01mreturn\u001b[39;00m plot_backend\u001b[38;5;241m.\u001b[39mboxplot_frame(\n\u001b[0;32m    508\u001b[0m         \u001b[38;5;28mself\u001b[39m,\n\u001b[0;32m    509\u001b[0m         column\u001b[38;5;241m=\u001b[39mcolumn,\n\u001b[1;32m   (...)\u001b[0m\n\u001b[0;32m    518\u001b[0m         \u001b[38;5;241m*\u001b[39m\u001b[38;5;241m*\u001b[39mkwargs,\n\u001b[0;32m    519\u001b[0m     )\n",
      "File \u001b[1;32m~\\anaconda3\\envs\\uds\\lib\\site-packages\\pandas\\plotting\\_core.py:1862\u001b[0m, in \u001b[0;36m_get_plot_backend\u001b[1;34m(backend)\u001b[0m\n\u001b[0;32m   1859\u001b[0m \u001b[38;5;28;01mif\u001b[39;00m backend_str \u001b[38;5;129;01min\u001b[39;00m _backends:\n\u001b[0;32m   1860\u001b[0m     \u001b[38;5;28;01mreturn\u001b[39;00m _backends[backend_str]\n\u001b[1;32m-> 1862\u001b[0m module \u001b[38;5;241m=\u001b[39m \u001b[43m_load_backend\u001b[49m\u001b[43m(\u001b[49m\u001b[43mbackend_str\u001b[49m\u001b[43m)\u001b[49m\n\u001b[0;32m   1863\u001b[0m _backends[backend_str] \u001b[38;5;241m=\u001b[39m module\n\u001b[0;32m   1864\u001b[0m \u001b[38;5;28;01mreturn\u001b[39;00m module\n",
      "File \u001b[1;32m~\\anaconda3\\envs\\uds\\lib\\site-packages\\pandas\\plotting\\_core.py:1794\u001b[0m, in \u001b[0;36m_load_backend\u001b[1;34m(backend)\u001b[0m\n\u001b[0;32m   1792\u001b[0m         module \u001b[38;5;241m=\u001b[39m importlib\u001b[38;5;241m.\u001b[39mimport_module(\u001b[38;5;124m\"\u001b[39m\u001b[38;5;124mpandas.plotting._matplotlib\u001b[39m\u001b[38;5;124m\"\u001b[39m)\n\u001b[0;32m   1793\u001b[0m     \u001b[38;5;28;01mexcept\u001b[39;00m \u001b[38;5;167;01mImportError\u001b[39;00m:\n\u001b[1;32m-> 1794\u001b[0m         \u001b[38;5;28;01mraise\u001b[39;00m \u001b[38;5;167;01mImportError\u001b[39;00m(\n\u001b[0;32m   1795\u001b[0m             \u001b[38;5;124m\"\u001b[39m\u001b[38;5;124mmatplotlib is required for plotting when the \u001b[39m\u001b[38;5;124m\"\u001b[39m\n\u001b[0;32m   1796\u001b[0m             \u001b[38;5;124m'\u001b[39m\u001b[38;5;124mdefault backend \u001b[39m\u001b[38;5;124m\"\u001b[39m\u001b[38;5;124mmatplotlib\u001b[39m\u001b[38;5;124m\"\u001b[39m\u001b[38;5;124m is selected.\u001b[39m\u001b[38;5;124m'\u001b[39m\n\u001b[0;32m   1797\u001b[0m         ) \u001b[38;5;28;01mfrom\u001b[39;00m \u001b[38;5;28mNone\u001b[39m\n\u001b[0;32m   1798\u001b[0m     \u001b[38;5;28;01mreturn\u001b[39;00m module\n\u001b[0;32m   1800\u001b[0m found_backend \u001b[38;5;241m=\u001b[39m \u001b[38;5;28;01mFalse\u001b[39;00m\n",
      "\u001b[1;31mImportError\u001b[0m: matplotlib is required for plotting when the default backend \"matplotlib\" is selected."
     ]
    }
   ],
   "source": [
    "df.boxplot('price_numeric', by='neighborhood')"
   ]
  },
  {
   "cell_type": "markdown",
   "id": "5d4ea2ec",
   "metadata": {},
   "source": [
    "There are several ways to examine the contents of a pandas DataFrame column. `unique()` can be useful.\n",
    "\n",
    "Here, we see that there isn't a fixed set of neighborhood names, and so further cleaning would be needed."
   ]
  },
  {
   "cell_type": "code",
   "execution_count": 13,
   "id": "6f427798",
   "metadata": {},
   "outputs": [
    {
     "data": {
      "text/plain": [
       "array(['West HollywoodÂ', 'westside-southbay-310Â', 'HollywoodÂ',\n",
       "       'GardenaÂ', 'Santa MonicaÂ', 'san fernando valleyÂ', 'GlendaleÂ',\n",
       "       'ResedaÂ', 'West Los AngelesÂ', 'Van Nuys/Lake Balboa ADJÂ',\n",
       "       'central LA 213/323Â', '44045 15th St W, Lancaster, CAÂ',\n",
       "       'Marina Del ReyÂ', 'KoreatownÂ', 'DuarteÂ', 'MonroviaÂ', 'CovinaÂ',\n",
       "       'West CovinaÂ', 'TarzanaÂ',\n",
       "       '**************** PACOIMA ****************Â',\n",
       "       '*****************NORTH HOLLYWOOD******************Â',\n",
       "       '*********** NORTH HOLLYWOOD *********Â', 'ParamountÂ',\n",
       "       'long beach / 562Â', 'Moments to Ventura BoulevardÂ',\n",
       "       'Close to Ventura BoulevardÂ', 'South of Ventura BoulevardÂ',\n",
       "       '************** SUN VALLEY *************Â',\n",
       "       '3205 Los Feliz Boulevard, Los Angeles, CAÂ',\n",
       "       '************* HOLLYWOOD / LOS ANGELES *****************Â',\n",
       "       '18414 W. Jakes Way, Canyon Country, CAÂ',\n",
       "       'VENICE BEACH BOARDWALKÂ', '******** SUN VALLEY ***************Â',\n",
       "       '************* SUN VALLEY ************Â',\n",
       "       '************* VAN NUYS ****************Â',\n",
       "       '************** BURBANK ******************Â',\n",
       "       '************* SUNLAND **************Â',\n",
       "       'LOS ANGELES - 1732 N. HARVARD BLVD HOLLYWOODÂ',\n",
       "       '************* MISSION HILLS ***************Â',\n",
       "       '************** NORTH HOLLYWOOD ****************Â', 'Van NuysÂ',\n",
       "       '**************SHERMAN OAKS / NEAR VENTURA BLVD**************Â',\n",
       "       'NorthridgeÂ', '************ LAKE BALBOA ***************Â',\n",
       "       '************* WINNETKA ***************Â', 'DowneyÂ',\n",
       "       'VIRGIL VILLAGE / LOS FELIZ ADJ.Â',\n",
       "       '1221 W. 3rd St. , Los Angeles, CAÂ', 'VALLEY VILLAGEÂ',\n",
       "       '****************WINNETKA***********Â',\n",
       "       '************** GLENDALE ***************Â',\n",
       "       '*************GRANADA HILLS**************Â',\n",
       "       '********************** SYLMAR ***********************Â',\n",
       "       'AdelantoÂ', '************** GLENDALE ****************Â',\n",
       "       'South of Ventura Blvd.Â', 'South Park District DTLAÂ',\n",
       "       'Sherman OaksÂ', 'Long BeachÂ', 'EncinoÂ', 'SOCALÂ',\n",
       "       '4041 Arch Dr, Studio City, CAÂ',\n",
       "       '6300 Green Valley Circle, Culver City, CAÂ', 'SocalÂ',\n",
       "       'LancasterÂ', 'Eagle Rock / Los AngelesÂ', 'TARZANAÂ',\n",
       "       'Prime Koreatown / DTLA / Los AngelesÂ', 'Downtown Santa MonicaÂ',\n",
       "       'DTLA / Los Angeles / Westlake DistrictÂ', 'Tarzana, CAÂ',\n",
       "       'Los AngelesÂ', 'Hollywood / Los AngelesÂ',\n",
       "       'Los Angeles (Brentwood)Â', 'TopangaÂ',\n",
       "       'Downtown Los Angeles Industrial DistrictÂ', 'South TorranceÂ',\n",
       "       'Arts District; Downtown Los AngelesÂ',\n",
       "       'Los Angeles / Westlake District / DTLAÂ', 'comptonÂ',\n",
       "       'OPEN HOUSE DAILY 10-5 | NorthridgeÂ',\n",
       "       '25910 Tournament Rd, Valencia, CAÂ', 'antelope valleyÂ'],\n",
       "      dtype=object)"
      ]
     },
     "execution_count": 13,
     "metadata": {},
     "output_type": "execute_result"
    }
   ],
   "source": [
    "df.neighborhood.unique()"
   ]
  },
  {
   "cell_type": "markdown",
   "id": "957ec802",
   "metadata": {},
   "source": [
    "What about the relationship between prices and the apartment size?"
   ]
  },
  {
   "cell_type": "code",
   "execution_count": 14,
   "id": "ad6ade1e",
   "metadata": {},
   "outputs": [
    {
     "ename": "ImportError",
     "evalue": "matplotlib is required for plotting when the default backend \"matplotlib\" is selected.",
     "output_type": "error",
     "traceback": [
      "\u001b[1;31m---------------------------------------------------------------------------\u001b[0m",
      "\u001b[1;31mImportError\u001b[0m                               Traceback (most recent call last)",
      "Cell \u001b[1;32mIn[14], line 1\u001b[0m\n\u001b[1;32m----> 1\u001b[0m \u001b[43mdf\u001b[49m\u001b[38;5;241;43m.\u001b[39;49m\u001b[43mplot\u001b[49m\u001b[43m(\u001b[49m\u001b[38;5;124;43m'\u001b[39;49m\u001b[38;5;124;43msf\u001b[39;49m\u001b[38;5;124;43m'\u001b[39;49m\u001b[43m,\u001b[49m\u001b[43m \u001b[49m\u001b[38;5;124;43m'\u001b[39;49m\u001b[38;5;124;43mprice_numeric\u001b[39;49m\u001b[38;5;124;43m'\u001b[39;49m\u001b[43m,\u001b[49m\u001b[43m \u001b[49m\u001b[43mkind\u001b[49m\u001b[38;5;241;43m=\u001b[39;49m\u001b[38;5;124;43m'\u001b[39;49m\u001b[38;5;124;43mscatter\u001b[39;49m\u001b[38;5;124;43m'\u001b[39;49m\u001b[43m)\u001b[49m\n",
      "File \u001b[1;32m~\\anaconda3\\envs\\uds\\lib\\site-packages\\pandas\\plotting\\_core.py:895\u001b[0m, in \u001b[0;36mPlotAccessor.__call__\u001b[1;34m(self, *args, **kwargs)\u001b[0m\n\u001b[0;32m    894\u001b[0m \u001b[38;5;28;01mdef\u001b[39;00m \u001b[38;5;21m__call__\u001b[39m(\u001b[38;5;28mself\u001b[39m, \u001b[38;5;241m*\u001b[39margs, \u001b[38;5;241m*\u001b[39m\u001b[38;5;241m*\u001b[39mkwargs):\n\u001b[1;32m--> 895\u001b[0m     plot_backend \u001b[38;5;241m=\u001b[39m \u001b[43m_get_plot_backend\u001b[49m\u001b[43m(\u001b[49m\u001b[43mkwargs\u001b[49m\u001b[38;5;241;43m.\u001b[39;49m\u001b[43mpop\u001b[49m\u001b[43m(\u001b[49m\u001b[38;5;124;43m\"\u001b[39;49m\u001b[38;5;124;43mbackend\u001b[39;49m\u001b[38;5;124;43m\"\u001b[39;49m\u001b[43m,\u001b[49m\u001b[43m \u001b[49m\u001b[38;5;28;43;01mNone\u001b[39;49;00m\u001b[43m)\u001b[49m\u001b[43m)\u001b[49m\n\u001b[0;32m    897\u001b[0m     x, y, kind, kwargs \u001b[38;5;241m=\u001b[39m \u001b[38;5;28mself\u001b[39m\u001b[38;5;241m.\u001b[39m_get_call_args(\n\u001b[0;32m    898\u001b[0m         plot_backend\u001b[38;5;241m.\u001b[39m\u001b[38;5;18m__name__\u001b[39m, \u001b[38;5;28mself\u001b[39m\u001b[38;5;241m.\u001b[39m_parent, args, kwargs\n\u001b[0;32m    899\u001b[0m     )\n\u001b[0;32m    901\u001b[0m     kind \u001b[38;5;241m=\u001b[39m \u001b[38;5;28mself\u001b[39m\u001b[38;5;241m.\u001b[39m_kind_aliases\u001b[38;5;241m.\u001b[39mget(kind, kind)\n",
      "File \u001b[1;32m~\\anaconda3\\envs\\uds\\lib\\site-packages\\pandas\\plotting\\_core.py:1862\u001b[0m, in \u001b[0;36m_get_plot_backend\u001b[1;34m(backend)\u001b[0m\n\u001b[0;32m   1859\u001b[0m \u001b[38;5;28;01mif\u001b[39;00m backend_str \u001b[38;5;129;01min\u001b[39;00m _backends:\n\u001b[0;32m   1860\u001b[0m     \u001b[38;5;28;01mreturn\u001b[39;00m _backends[backend_str]\n\u001b[1;32m-> 1862\u001b[0m module \u001b[38;5;241m=\u001b[39m \u001b[43m_load_backend\u001b[49m\u001b[43m(\u001b[49m\u001b[43mbackend_str\u001b[49m\u001b[43m)\u001b[49m\n\u001b[0;32m   1863\u001b[0m _backends[backend_str] \u001b[38;5;241m=\u001b[39m module\n\u001b[0;32m   1864\u001b[0m \u001b[38;5;28;01mreturn\u001b[39;00m module\n",
      "File \u001b[1;32m~\\anaconda3\\envs\\uds\\lib\\site-packages\\pandas\\plotting\\_core.py:1794\u001b[0m, in \u001b[0;36m_load_backend\u001b[1;34m(backend)\u001b[0m\n\u001b[0;32m   1792\u001b[0m         module \u001b[38;5;241m=\u001b[39m importlib\u001b[38;5;241m.\u001b[39mimport_module(\u001b[38;5;124m\"\u001b[39m\u001b[38;5;124mpandas.plotting._matplotlib\u001b[39m\u001b[38;5;124m\"\u001b[39m)\n\u001b[0;32m   1793\u001b[0m     \u001b[38;5;28;01mexcept\u001b[39;00m \u001b[38;5;167;01mImportError\u001b[39;00m:\n\u001b[1;32m-> 1794\u001b[0m         \u001b[38;5;28;01mraise\u001b[39;00m \u001b[38;5;167;01mImportError\u001b[39;00m(\n\u001b[0;32m   1795\u001b[0m             \u001b[38;5;124m\"\u001b[39m\u001b[38;5;124mmatplotlib is required for plotting when the \u001b[39m\u001b[38;5;124m\"\u001b[39m\n\u001b[0;32m   1796\u001b[0m             \u001b[38;5;124m'\u001b[39m\u001b[38;5;124mdefault backend \u001b[39m\u001b[38;5;124m\"\u001b[39m\u001b[38;5;124mmatplotlib\u001b[39m\u001b[38;5;124m\"\u001b[39m\u001b[38;5;124m is selected.\u001b[39m\u001b[38;5;124m'\u001b[39m\n\u001b[0;32m   1797\u001b[0m         ) \u001b[38;5;28;01mfrom\u001b[39;00m \u001b[38;5;28mNone\u001b[39m\n\u001b[0;32m   1798\u001b[0m     \u001b[38;5;28;01mreturn\u001b[39;00m module\n\u001b[0;32m   1800\u001b[0m found_backend \u001b[38;5;241m=\u001b[39m \u001b[38;5;28;01mFalse\u001b[39;00m\n",
      "\u001b[1;31mImportError\u001b[0m: matplotlib is required for plotting when the default backend \"matplotlib\" is selected."
     ]
    }
   ],
   "source": [
    "df.plot('sf', 'price_numeric', kind='scatter')"
   ]
  },
  {
   "cell_type": "code",
   "execution_count": 15,
   "id": "a04a8053-6c28-4176-ab01-7a3295e56370",
   "metadata": {},
   "outputs": [
    {
     "data": {
      "text/html": [
       "<div>\n",
       "<style scoped>\n",
       "    .dataframe tbody tr th:only-of-type {\n",
       "        vertical-align: middle;\n",
       "    }\n",
       "\n",
       "    .dataframe tbody tr th {\n",
       "        vertical-align: top;\n",
       "    }\n",
       "\n",
       "    .dataframe thead th {\n",
       "        text-align: right;\n",
       "    }\n",
       "</style>\n",
       "<table border=\"1\" class=\"dataframe\">\n",
       "  <thead>\n",
       "    <tr style=\"text-align: right;\">\n",
       "      <th></th>\n",
       "      <th>title</th>\n",
       "      <th>url</th>\n",
       "      <th>neighborhood</th>\n",
       "      <th>price</th>\n",
       "      <th>br</th>\n",
       "      <th>sf</th>\n",
       "      <th>price_numeric</th>\n",
       "    </tr>\n",
       "  </thead>\n",
       "  <tbody>\n",
       "    <tr>\n",
       "      <th>0</th>\n",
       "      <td>1050 N. Orange Grove Ave./All Utilities Includ...</td>\n",
       "      <td>https://losangeles.craigslist.org/wst/apa/d/we...</td>\n",
       "      <td>West HollywoodÂ</td>\n",
       "      <td>$1,195</td>\n",
       "      <td>NaN</td>\n",
       "      <td>NaN</td>\n",
       "      <td>1195.0</td>\n",
       "    </tr>\n",
       "    <tr>\n",
       "      <th>1</th>\n",
       "      <td>BEAUTIFUL DORMITORY STYLE HOUSING AVAILABLE - ...</td>\n",
       "      <td>https://losangeles.craigslist.org/wst/apa/d/to...</td>\n",
       "      <td>westside-southbay-310Â</td>\n",
       "      <td>$1,025</td>\n",
       "      <td>NaN</td>\n",
       "      <td>NaN</td>\n",
       "      <td>1025.0</td>\n",
       "    </tr>\n",
       "    <tr>\n",
       "      <th>2</th>\n",
       "      <td>SR- Brand new 2 bed, 2 bath  luxury unit with ...</td>\n",
       "      <td>https://losangeles.craigslist.org/wst/apa/d/lo...</td>\n",
       "      <td>HollywoodÂ</td>\n",
       "      <td>$3,295</td>\n",
       "      <td>2.0</td>\n",
       "      <td>925.0</td>\n",
       "      <td>3295.0</td>\n",
       "    </tr>\n",
       "    <tr>\n",
       "      <th>3</th>\n",
       "      <td>Very nice upgraded 1 bedroom 1 bath unit</td>\n",
       "      <td>https://losangeles.craigslist.org/wst/apa/d/ga...</td>\n",
       "      <td>GardenaÂ</td>\n",
       "      <td>$1,910</td>\n",
       "      <td>1.0</td>\n",
       "      <td>NaN</td>\n",
       "      <td>1910.0</td>\n",
       "    </tr>\n",
       "    <tr>\n",
       "      <th>4</th>\n",
       "      <td>Affordable one bedroom near the beach</td>\n",
       "      <td>https://losangeles.craigslist.org/wst/apa/d/sa...</td>\n",
       "      <td>Santa MonicaÂ</td>\n",
       "      <td>$2,382</td>\n",
       "      <td>1.0</td>\n",
       "      <td>655.0</td>\n",
       "      <td>2382.0</td>\n",
       "    </tr>\n",
       "  </tbody>\n",
       "</table>\n",
       "</div>"
      ],
      "text/plain": [
       "                                               title   \n",
       "0  1050 N. Orange Grove Ave./All Utilities Includ...  \\\n",
       "1  BEAUTIFUL DORMITORY STYLE HOUSING AVAILABLE - ...   \n",
       "2  SR- Brand new 2 bed, 2 bath  luxury unit with ...   \n",
       "3           Very nice upgraded 1 bedroom 1 bath unit   \n",
       "4              Affordable one bedroom near the beach   \n",
       "\n",
       "                                                 url            neighborhood   \n",
       "0  https://losangeles.craigslist.org/wst/apa/d/we...         West HollywoodÂ  \\\n",
       "1  https://losangeles.craigslist.org/wst/apa/d/to...  westside-southbay-310Â   \n",
       "2  https://losangeles.craigslist.org/wst/apa/d/lo...              HollywoodÂ   \n",
       "3  https://losangeles.craigslist.org/wst/apa/d/ga...                GardenaÂ   \n",
       "4  https://losangeles.craigslist.org/wst/apa/d/sa...           Santa MonicaÂ   \n",
       "\n",
       "    price   br     sf  price_numeric  \n",
       "0  $1,195  NaN    NaN         1195.0  \n",
       "1  $1,025  NaN    NaN         1025.0  \n",
       "2  $3,295  2.0  925.0         3295.0  \n",
       "3  $1,910  1.0    NaN         1910.0  \n",
       "4  $2,382  1.0  655.0         2382.0  "
      ]
     },
     "execution_count": 15,
     "metadata": {},
     "output_type": "execute_result"
    }
   ],
   "source": [
    "df.head()"
   ]
  },
  {
   "cell_type": "markdown",
   "id": "dominant-environment",
   "metadata": {},
   "source": [
    "So now we've created a dataframe that extracts all the posts on the first page! \n",
    "\n",
    "There's still quite a bit to do. For example:\n",
    "\n",
    "* We only have one page, and it would be useful to get data from the subsequent pages\n",
    "* Our neighborhood field is really dirty, so it's hard to do any mapping\n",
    "* We don't have any information about parking\n",
    "* We don't have the geographic coordinates (lat/lon)\n",
    "\n",
    "But let's leave those for future work. "
   ]
  },
  {
   "cell_type": "markdown",
   "id": "occasional-boring",
   "metadata": {},
   "source": [
    "<div class=\"alert alert-block alert-info\">\n",
    "<h3>Key Takeaways</h3>\n",
    "<ul>\n",
    "  <li>Scraping unstructured webpages involves more detective work and trial and error.</li>\n",
    "  <li>Some will have a consistent format and helpful class codes and html tags. Some won't.</li>\n",
    "  <li>Your code will need to be robust to missing fields and other inconsistencies in page formatting.</li>\n",
    "  <li>Be nice! You may need to slow the pace of your requests down.</li>\n",
    "</ul>\n",
    "</div>"
   ]
  }
 ],
 "metadata": {
  "kernelspec": {
   "display_name": "Python 3 (ipykernel)",
   "language": "python",
   "name": "python3"
  },
  "language_info": {
   "codemirror_mode": {
    "name": "ipython",
    "version": 3
   },
   "file_extension": ".py",
   "mimetype": "text/x-python",
   "name": "python",
   "nbconvert_exporter": "python",
   "pygments_lexer": "ipython3",
   "version": "3.10.10"
  }
 },
 "nbformat": 4,
 "nbformat_minor": 5
}
